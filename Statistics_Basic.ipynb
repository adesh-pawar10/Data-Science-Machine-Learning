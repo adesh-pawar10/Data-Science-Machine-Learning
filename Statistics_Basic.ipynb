{
 "cells": [
  {
   "cell_type": "markdown",
   "id": "66dd0918",
   "metadata": {},
   "source": [
    "<h1 style=\"color:DodgerBlue;\"> What is Statistics Used for? </h1>\n",
    "Statistics is used in all kinds of science and business applications.\n",
    "\n",
    "Statistics gives us more accurate knowledge which helps us make better decisions.\n",
    "\n",
    "Statistics can focus on making predictions about what will happen in the future. It can also focus on explaining how different things are connected."
   ]
  },
  {
   "cell_type": "markdown",
   "id": "caed3ebe",
   "metadata": {},
   "source": [
    "<h1 style = \"color : Cyan\">Important Concepts in Statistics</h1>"
   ]
  },
  {
   "cell_type": "markdown",
   "id": "23051bcf",
   "metadata": {},
   "source": [
    "<h1 style = \"color : Cyan\">Important Concepts in Statistics</h1>\n",
    "<ol>\n",
    "    <li>Predictions and Explanations</li>\n",
    "    <li>Populations and Samples</li>\n",
    "    <li>Parameters and Sample Statistics</li>\n",
    "    <li>Sampling Methods</li>\n",
    "    <li>Data Types</li>\n",
    "    <li>Measurement Level</li>\n",
    "    <li>Descriptive Statistics</li>\n",
    "    <li>Random Variables</li>\n",
    "    <li>Univariate and Multivariate Statistics</li>\n",
    "    <li>Probability Calculation</li>\n",
    "    <li>Probability Distributions</li>\n",
    "    <li>Statistical Inference</li>\n",
    "    <li>Parameter Estimation</li>\n",
    "    <li>Hypothesis Testing</li>\n",
    "    <li>Correlation</li>\n",
    "    <li>Regression Analysis</li>\n",
    "    <li>Causal Inference</li>\n",
    "</ol>"
   ]
  },
  {
   "cell_type": "markdown",
   "id": "434df9ba",
   "metadata": {},
   "source": [
    "<h1 style = \"color : Orange\"> Descriptive Statistics </h1>"
   ]
  },
  {
   "cell_type": "markdown",
   "id": "379fe1d2",
   "metadata": {},
   "source": [
    "The information (data) from your sample or population can be visualized with graphs or summarized by numbers. This will show key information in a simpler way than just looking at raw data. It can help us understand how the data is distributed.\n",
    "\n",
    "Graphs can visually show the data distribution.\n",
    "\n",
    "Examples of graphs include:\n",
    "\n",
    "1. Histograms\n",
    "2. Pie charts\n",
    "3. Bar graphs\n",
    "4. Box plots\n",
    "\n",
    "Some graphs have a close connection to numerical summary statistics. Calculating those gives us the basis of these graphs.\n",
    "\n",
    "For example, a box plot visually shows the quartiles of a data distribution.\n",
    "\n",
    "Quartiles are the data split into four equal size parts, or quarters. A quartile is one type of summary statistics."
   ]
  },
  {
   "cell_type": "markdown",
   "id": "02a2ad2c",
   "metadata": {},
   "source": [
    "<h1 style = \"color : DodgerBlue\"> Statistics Average </h1>"
   ]
  },
  {
   "cell_type": "markdown",
   "id": "79cea8eb",
   "metadata": {},
   "source": [
    "<p style = \"color : tomato\">The Center of the Data\n",
    "The center of the data is where most of the values in the data are located. Averages are measures of the location of the center.\n",
    "</p>\n",
    "There are different types of averages. The most commonly used are:\n",
    "\n",
    "1. Mean\n",
    "2. Median\n",
    "3. Mode"
   ]
  },
  {
   "cell_type": "markdown",
   "id": "0d019ebf",
   "metadata": {},
   "source": [
    "<h1 style = \"color : MediumSeaGreen\"> 1. Mean </h1>"
   ]
  },
  {
   "cell_type": "markdown",
   "id": "eb11435e",
   "metadata": {},
   "source": [
    "The mean is usually referred to as 'the average'.\n",
    "\n",
    "The mean is the sum of all the values in the data divided by the total number of values in the data.\n",
    "\n",
    "The mean is calculated for numerical variables. A variable is something in the data that can vary, like:\n",
    "\n",
    "1. Age\n",
    "2. Height\n",
    "3. Income"
   ]
  },
  {
   "cell_type": "code",
   "execution_count": 4,
   "id": "a4d05c10",
   "metadata": {},
   "outputs": [
    {
     "data": {
      "text/plain": [
       "9.0"
      ]
     },
     "execution_count": 4,
     "metadata": {},
     "output_type": "execute_result"
    }
   ],
   "source": [
    "import numpy as np\n",
    "\n",
    "values = [4,11,7,14]\n",
    "\n",
    "x = np.mean(values)\n",
    "\n",
    "x"
   ]
  },
  {
   "cell_type": "code",
   "execution_count": null,
   "id": "c90f4b47",
   "metadata": {},
   "outputs": [],
   "source": []
  },
  {
   "cell_type": "markdown",
   "id": "b198a9ad",
   "metadata": {},
   "source": [
    "<h1 style = \"color : MediumSeaGreen\"> 2. Median </h1>"
   ]
  },
  {
   "cell_type": "markdown",
   "id": "34351a7b",
   "metadata": {},
   "source": [
    "The median is the middle value in a data set ordered from low to high.\n",
    "\n",
    "The median can only be calculated for numerical variables.\n",
    "\n",
    "The formula for finding the middle value is:\n",
    "\n",
    " n + 1 / 2\n",
    "\n",
    "Where  is the total number of observations."
   ]
  },
  {
   "cell_type": "code",
   "execution_count": 5,
   "id": "39004c62",
   "metadata": {},
   "outputs": [
    {
     "data": {
      "text/plain": [
       "41.0"
      ]
     },
     "execution_count": 5,
     "metadata": {},
     "output_type": "execute_result"
    }
   ],
   "source": [
    "v1 = [13,21,21,40,42,48,55,72]\n",
    "\n",
    "md = np.median(v1)\n",
    "md"
   ]
  },
  {
   "cell_type": "markdown",
   "id": "5c581103",
   "metadata": {},
   "source": [
    "<h1 style = \"color : MediumSeaGreen\"> 3. Mode </h1>"
   ]
  },
  {
   "cell_type": "markdown",
   "id": "f89e51b4",
   "metadata": {},
   "source": [
    "The mode is the value(s) that are the most common in the data.\n",
    "\n",
    "A dataset can have multiple values that are modes.\n",
    "\n",
    "A distribution of values with only one mode is called unimodal.\n",
    "\n",
    "A distribution of values with two modes is called bimodal. In general, a distribution with more than one mode is called multimodal.\n",
    "\n",
    "Mode can be found for both categorical and numerical data."
   ]
  },
  {
   "cell_type": "code",
   "execution_count": 6,
   "id": "0a90e979",
   "metadata": {},
   "outputs": [
    {
     "data": {
      "text/plain": [
       "[7, 12]"
      ]
     },
     "execution_count": 6,
     "metadata": {},
     "output_type": "execute_result"
    }
   ],
   "source": [
    "from statistics import multimode\n",
    "\n",
    "v2 = [4,7,3,8,11,7,10,19,6,9,12,12]\n",
    "\n",
    "MODE = multimode(v2)\n",
    "MODE"
   ]
  },
  {
   "cell_type": "code",
   "execution_count": null,
   "id": "8df9929d",
   "metadata": {},
   "outputs": [],
   "source": []
  },
  {
   "cell_type": "markdown",
   "id": "55c7c6d9",
   "metadata": {},
   "source": [
    "<h1 style = \"color : Turquoise\"> Statistics Variation </h1>"
   ]
  },
  {
   "cell_type": "markdown",
   "id": "cbc1bce1",
   "metadata": {},
   "source": [
    "Variation is a measure of how spread out the data is around the center of the data.\n"
   ]
  },
  {
   "cell_type": "markdown",
   "id": "b7105dc7",
   "metadata": {},
   "source": [
    "<h1 style = \"color:SkyBlue\">Measures of variation are statistics of how far away the values in the observations (data points) are from each other.</h1>\n",
    "\n",
    "There are different measures of variation. The most commonly used are:\n",
    "\n",
    "1. Range\n",
    "2. Quartiles and Percentiles\n",
    "3. Interquartile Range\n",
    "4. Standard Deviation\n",
    "\n",
    "Measures of variation combined with an average (measure of center) gives a good picture of the distribution of the data."
   ]
  },
  {
   "cell_type": "markdown",
   "id": "a209d2cb",
   "metadata": {},
   "source": [
    "<h1 style = \"color:Orange\"> 1. Range</h1>"
   ]
  },
  {
   "cell_type": "markdown",
   "id": "a8b91472",
   "metadata": {},
   "source": [
    "The range is the difference between the smallest and the largest value of the data.\n",
    "\n",
    "Range is the simplest measure of variation."
   ]
  },
  {
   "cell_type": "code",
   "execution_count": 8,
   "id": "1d7a6bb6",
   "metadata": {},
   "outputs": [
    {
     "name": "stdout",
     "output_type": "stream",
     "text": [
      "59\n"
     ]
    }
   ],
   "source": [
    "values_1 = [13,21,21,40,48,55,72]\n",
    "\n",
    "x = np.ptp(values_1)\n",
    "\n",
    "print(x)"
   ]
  },
  {
   "cell_type": "markdown",
   "id": "8c966a5f",
   "metadata": {},
   "source": [
    "<h1 style = \"color:Orange\"> 2. Quartiles and Percentiles </h1>"
   ]
  },
  {
   "cell_type": "markdown",
   "id": "63ebadad",
   "metadata": {},
   "source": [
    "Quartiles and percentiles are a measures of variation, which describes how spread out the data is.\n",
    "\n",
    "Quartiles and percentiles are both types of quantiles.\n",
    "\n",
    "\n",
    "Quartiles are values that separate the data into four equal parts."
   ]
  },
  {
   "cell_type": "markdown",
   "id": "9e24951a",
   "metadata": {},
   "source": [
    "The quartiles (Q0,Q1,Q2,Q3,Q4) are the values that separate each quarter.\n",
    "\n",
    "Between Q0 and Q1 are the 25% lowest values in the data. Between Q1 and Q2 are the next 25%. And so on.\n",
    "\n",
    " *   Q0 is the smallest value in the data.\n",
    " *   Q1 is the value separating the first quarter from the second quarter of the data.\n",
    " *  Q2 is the middle value (median), separating the bottom from the top half.\n",
    " *   Q3 is the value separating the third quarter from the fourth quarter\n",
    " *   Q4 is the largest value in the data."
   ]
  },
  {
   "cell_type": "code",
   "execution_count": 12,
   "id": "3be48edf",
   "metadata": {},
   "outputs": [
    {
     "data": {
      "text/plain": [
       "array([13.  , 21.  , 41.  , 49.75, 72.  ])"
      ]
     },
     "execution_count": 12,
     "metadata": {},
     "output_type": "execute_result"
    }
   ],
   "source": [
    "v_2 = [13,21,21,40,42,48,55,72]\n",
    "\n",
    "x1 = np.quantile(v_2, [0,0.25,0.5,0.75,1])\n",
    "\n",
    "x1"
   ]
  },
  {
   "cell_type": "markdown",
   "id": "73317db1",
   "metadata": {},
   "source": [
    "<h1 style = \"color:orange\"> Percentiles </h1>"
   ]
  },
  {
   "cell_type": "markdown",
   "id": "6d3bd935",
   "metadata": {},
   "source": [
    "Percentiles are values that separate the data into 100 equal parts.\n",
    "\n",
    "For example, The 95th percentile separates the lowest 95% of the values from the top 5%\n",
    "\n",
    "The 25th percentile (P25%) is the same as the first quartile (Q1).\n",
    "\n",
    "The 50th percentile (P50%) is the same as the second quartile (Q2) and the median.\n",
    "\n",
    "The 75th percentile (P75%) is the same as the third quartile (Q3)"
   ]
  },
  {
   "cell_type": "code",
   "execution_count": 15,
   "id": "b77f6320",
   "metadata": {},
   "outputs": [
    {
     "data": {
      "text/plain": [
       "45.3"
      ]
     },
     "execution_count": 15,
     "metadata": {},
     "output_type": "execute_result"
    }
   ],
   "source": [
    "v_p = [13,21,21,40,42,48,55,72]\n",
    "\n",
    "x_p = np.percentile(v_p, 65)\n",
    "\n",
    "x_p"
   ]
  },
  {
   "cell_type": "markdown",
   "id": "40e48da0",
   "metadata": {},
   "source": [
    "<h1 style = \"color:Orange\"> 3. Interquartile Range </h1>"
   ]
  },
  {
   "cell_type": "markdown",
   "id": "a3c8948b",
   "metadata": {},
   "source": [
    "Interquartile range is a measure of variation, which describes how spread out the data is.\n",
    "\n"
   ]
  },
  {
   "cell_type": "markdown",
   "id": "85f8c972",
   "metadata": {},
   "source": [
    "Interquartile range is the difference between the first and third quartiles (Q1 and Q3).\n",
    "\n",
    "The 'middle half' of the data is between the first and third quartile.\n",
    "\n",
    "The first quartile is the value in the data that separates the bottom 25% of values from the top 75%.\n",
    "\n",
    "The third quartile is the value in the data that separates the bottom 75% of the values from the top 25%"
   ]
  },
  {
   "cell_type": "code",
   "execution_count": 16,
   "id": "f9b3bdbe",
   "metadata": {},
   "outputs": [
    {
     "data": {
      "text/plain": [
       "28.75"
      ]
     },
     "execution_count": 16,
     "metadata": {},
     "output_type": "execute_result"
    }
   ],
   "source": [
    "from scipy import stats\n",
    "\n",
    "values_ir = [13,21,21,40,42,48,55,72]\n",
    "\n",
    "x_ir = stats.iqr(values_ir)\n",
    "\n",
    "x_ir"
   ]
  },
  {
   "cell_type": "code",
   "execution_count": null,
   "id": "6d9d015d",
   "metadata": {},
   "outputs": [],
   "source": []
  },
  {
   "cell_type": "markdown",
   "id": "79fb17b0",
   "metadata": {},
   "source": [
    "<h1 style = \"color:Orange\"> 4. Standard Deviation </h1>"
   ]
  },
  {
   "cell_type": "markdown",
   "id": "77ce0156",
   "metadata": {},
   "source": [
    "Standard deviation is the most commonly used measure of variation, which describes how spread out the data is."
   ]
  },
  {
   "cell_type": "markdown",
   "id": "bdc5b612",
   "metadata": {},
   "source": [
    "Standard deviation (σ) measures how far a 'typical' observation is from the average of the data (μ).\n",
    "\n",
    "Standard deviation is important for many statistical methods."
   ]
  },
  {
   "cell_type": "markdown",
   "id": "46e22b3a",
   "metadata": {},
   "source": [
    "If the data is normally distributed:\n",
    "\n",
    "* Roughly 68.3% of the data is within 1 standard deviation of the average (from μ-1σ to μ+1σ)\n",
    "* Roughly 95.5% of the data is within 2 standard deviations of the average (from μ-2σ to μ+2σ)\n",
    "* Roughly 99.7% of the data is within 3 standard deviations of the average (from μ-3σ to μ+3σ)"
   ]
  },
  {
   "cell_type": "code",
   "execution_count": 18,
   "id": "e112fbf2",
   "metadata": {},
   "outputs": [
    {
     "data": {
      "text/plain": [
       "3.8078865529319543"
      ]
     },
     "execution_count": 18,
     "metadata": {},
     "output_type": "execute_result"
    }
   ],
   "source": [
    "v_std = [4,11,7,14]\n",
    "\n",
    "x_std = np.std(v_std)\n",
    "\n",
    "x_std"
   ]
  },
  {
   "cell_type": "code",
   "execution_count": null,
   "id": "dfd45f56",
   "metadata": {},
   "outputs": [],
   "source": []
  },
  {
   "cell_type": "code",
   "execution_count": null,
   "id": "88f7cdeb",
   "metadata": {},
   "outputs": [],
   "source": []
  },
  {
   "cell_type": "markdown",
   "id": "3af6e44d",
   "metadata": {},
   "source": [
    "<h1 style = \"color:skyblue\"> Hypothesis Testing </h1>"
   ]
  },
  {
   "cell_type": "markdown",
   "id": "3fcc35f7",
   "metadata": {},
   "source": [
    "A hypothesis is a claim about a population parameter.\n",
    "\n",
    "A hypothesis test is a formal procedure to check if a hypothesis is true or not.\n",
    "\n",
    "Examples of claims that can be checked:\n",
    "\n",
    "    The average height of people in Denmark is more than 170 cm.\n",
    "\n",
    "    The share of left handed people in Australia is not 10%.\n",
    "\n",
    "    The average income of dentists is less the average income of dentists."
   ]
  },
  {
   "cell_type": "markdown",
   "id": "e8d370a2",
   "metadata": {},
   "source": [
    "<h1 style = \"color : Teal\">The Null and Alternative Hypothesis</h1>"
   ]
  },
  {
   "cell_type": "markdown",
   "id": "c87c2f86",
   "metadata": {},
   "source": [
    "Hypothesis testing is based on making two different claims about a population parameter.\n",
    "\n",
    "The null hypothesis (Ho) and the alternative hypothesis (H1) are the claims.\n",
    "\n",
    "The two claims needs to be mutually exclusive, meaning only one of them can be true.\n",
    "\n",
    "The alternative hypothesis is typically what we are trying to prove.\n",
    "\n",
    "For example, we want to check the following claim:\n",
    "\n",
    "    The average height of people in Denmark is more than 170 cm."
   ]
  },
  {
   "cell_type": "markdown",
   "id": "45008a5d",
   "metadata": {},
   "source": [
    "In this case, the parameter is the average height of people in Denmark (μ).\n",
    "\n",
    "The null and alternative hypothesis would be:\n",
    "\n",
    "    Null hypothesis: The average height of people in Denmark is 170 cm.\n",
    "\n",
    "    Alternative hypothesis: The average height of people in Denmark is more than 170 cm."
   ]
  },
  {
   "cell_type": "markdown",
   "id": "d93cb917",
   "metadata": {},
   "source": [
    "The claims are often expressed with symbols like this:\n",
    "\n",
    "    Ho: μ = 170\n",
    "    H1: μ > 170"
   ]
  },
  {
   "cell_type": "markdown",
   "id": "390fd4b1",
   "metadata": {},
   "source": [
    "If the data supports the alternative hypothesis, we reject the null hypothesis and accept the alternative hypothesis.\n",
    "\n",
    "If the data does not support the alternative hypothesis, we keep the null hypothesis."
   ]
  },
  {
   "cell_type": "markdown",
   "id": "93e58a4d",
   "metadata": {},
   "source": [
    "<h1 style = \"color : Cyan\">The Significance Level </h1>"
   ]
  },
  {
   "cell_type": "markdown",
   "id": "f5118c62",
   "metadata": {},
   "source": [
    "The significance level (α) is the uncertainty we accept when rejecting the null hypothesis in the hypothesis test.\n",
    "\n",
    "The significance level is a percentage probability of accidentally making the wrong conclusion.\n",
    "\n",
    "Typical significance levels are:\n",
    "\n",
    "* α = 0.1 (10%)\n",
    "* α = 0.05 (5%)\n",
    "* α = 0.01 (1%)"
   ]
  },
  {
   "cell_type": "markdown",
   "id": "d771486e",
   "metadata": {},
   "source": [
    "A lower significance level means that the evidence in the data needs to be stronger to reject the null hypothesis.\n",
    "\n",
    "There is no \"correct\" significance level - it only states the uncertainty of the conclusion."
   ]
  },
  {
   "cell_type": "code",
   "execution_count": null,
   "id": "5025b32d",
   "metadata": {},
   "outputs": [],
   "source": []
  }
 ],
 "metadata": {
  "kernelspec": {
   "display_name": "Python 3 (ipykernel)",
   "language": "python",
   "name": "python3"
  },
  "language_info": {
   "codemirror_mode": {
    "name": "ipython",
    "version": 3
   },
   "file_extension": ".py",
   "mimetype": "text/x-python",
   "name": "python",
   "nbconvert_exporter": "python",
   "pygments_lexer": "ipython3",
   "version": "3.9.12"
  }
 },
 "nbformat": 4,
 "nbformat_minor": 5
}
