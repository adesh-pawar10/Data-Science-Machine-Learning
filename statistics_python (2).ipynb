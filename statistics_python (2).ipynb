{
 "cells": [
  {
   "cell_type": "code",
   "execution_count": 1,
   "id": "63eca4e6",
   "metadata": {
    "id": "63eca4e6",
    "outputId": "a68763bd-e2d2-4d03-fa1a-75e0ab97e225"
   },
   "outputs": [
    {
     "data": {
      "text/plain": [
       "((1, 2, 3), (4, 5, 6))"
      ]
     },
     "execution_count": 1,
     "metadata": {},
     "output_type": "execute_result"
    }
   ],
   "source": [
    "# importing the library\n",
    "from scipy.spatial import distance\n",
    "\n",
    "# defining the points\n",
    "point_1 = (1, 2, 3)\n",
    "point_2 = (4, 5, 6)\n",
    "point_1, point_2"
   ]
  },
  {
   "cell_type": "code",
   "execution_count": 2,
   "id": "d82dbb80",
   "metadata": {
    "id": "d82dbb80",
    "outputId": "4e21f2fd-ae03-445e-b8db-9ae86207a93f"
   },
   "outputs": [
    {
     "name": "stdout",
     "output_type": "stream",
     "text": [
      "Euclidean Distance b/w (1, 2, 3) and (4, 5, 6) is:  5.196152422706632\n"
     ]
    }
   ],
   "source": [
    "# computing the euclidean distance\n",
    "euclidean_distance = distance.euclidean(point_1, point_2)\n",
    "print('Euclidean Distance b/w', point_1, 'and', point_2, 'is: ', euclidean_distance)"
   ]
  },
  {
   "cell_type": "code",
   "execution_count": 3,
   "id": "222b6778",
   "metadata": {
    "id": "222b6778",
    "outputId": "92cc3344-ffaa-47d6-bde1-207dc8270114"
   },
   "outputs": [
    {
     "name": "stdout",
     "output_type": "stream",
     "text": [
      "Manhattan Distance b/w (1, 2, 3) and (4, 5, 6) is:  9\n"
     ]
    }
   ],
   "source": [
    "# computing the manhattan distance\n",
    "manhattan_distance = distance.cityblock(point_1, point_2)\n",
    "print('Manhattan Distance b/w', point_1, 'and', point_2, 'is: ', manhattan_distance)\n",
    "\n",
    "\n",
    "#distance.minkowski"
   ]
  },
  {
   "cell_type": "code",
   "execution_count": 9,
   "id": "544e8fe7",
   "metadata": {},
   "outputs": [
    {
     "name": "stdout",
     "output_type": "stream",
     "text": [
      "Minkowski Distance b/w (1, 2, 3) and (4, 5, 6) is:  9.0\n"
     ]
    }
   ],
   "source": [
    "# computing the minkowski distance\n",
    "\n",
    "minkowski_distance = distance.minkowski(point_1, point_2, p = 1)\n",
    "print('Minkowski Distance b/w', point_1, 'and', point_2, 'is: ', minkowski_distance)"
   ]
  },
  {
   "cell_type": "code",
   "execution_count": 10,
   "id": "5ad24b27",
   "metadata": {},
   "outputs": [
    {
     "name": "stdout",
     "output_type": "stream",
     "text": [
      "Hamming Distance b/w (1, 2, 3) and (4, 5, 6) is:  1.0\n"
     ]
    }
   ],
   "source": [
    "# computing the hamming distance\n",
    "\n",
    "hamming_distance = distance.hamming(point_1, point_2)\n",
    "print('Hamming Distance b/w', point_1, 'and', point_2, 'is: ', hamming_distance)"
   ]
  },
  {
   "cell_type": "code",
   "execution_count": null,
   "id": "d107fbc4",
   "metadata": {},
   "outputs": [],
   "source": []
  },
  {
   "cell_type": "markdown",
   "id": "2ba56020",
   "metadata": {},
   "source": [
    "<p style = \"color:dodgerblue\">The numpy random seed is a numerical value that generates a new set or repeats pseudo-random numbers. The value in the numpy random seed saves the state of randomness. If we call the seed function using value 1 multiple times, the computer displays the same random numbers.</p>"
   ]
  },
  {
   "cell_type": "code",
   "execution_count": 11,
   "id": "b37e6bd4",
   "metadata": {
    "id": "b37e6bd4",
    "outputId": "a61a37a5-9236-4e96-93d6-8364381a3521"
   },
   "outputs": [
    {
     "data": {
      "text/html": [
       "<div>\n",
       "<style scoped>\n",
       "    .dataframe tbody tr th:only-of-type {\n",
       "        vertical-align: middle;\n",
       "    }\n",
       "\n",
       "    .dataframe tbody tr th {\n",
       "        vertical-align: top;\n",
       "    }\n",
       "\n",
       "    .dataframe thead th {\n",
       "        text-align: right;\n",
       "    }\n",
       "</style>\n",
       "<table border=\"1\" class=\"dataframe\">\n",
       "  <thead>\n",
       "    <tr style=\"text-align: right;\">\n",
       "      <th></th>\n",
       "      <th>A</th>\n",
       "      <th>B</th>\n",
       "      <th>C</th>\n",
       "    </tr>\n",
       "  </thead>\n",
       "  <tbody>\n",
       "    <tr>\n",
       "      <th>0</th>\n",
       "      <td>9</td>\n",
       "      <td>4</td>\n",
       "      <td>0</td>\n",
       "    </tr>\n",
       "    <tr>\n",
       "      <th>1</th>\n",
       "      <td>1</td>\n",
       "      <td>9</td>\n",
       "      <td>0</td>\n",
       "    </tr>\n",
       "    <tr>\n",
       "      <th>2</th>\n",
       "      <td>1</td>\n",
       "      <td>8</td>\n",
       "      <td>9</td>\n",
       "    </tr>\n",
       "    <tr>\n",
       "      <th>3</th>\n",
       "      <td>0</td>\n",
       "      <td>8</td>\n",
       "      <td>6</td>\n",
       "    </tr>\n",
       "    <tr>\n",
       "      <th>4</th>\n",
       "      <td>4</td>\n",
       "      <td>3</td>\n",
       "      <td>0</td>\n",
       "    </tr>\n",
       "  </tbody>\n",
       "</table>\n",
       "</div>"
      ],
      "text/plain": [
       "   A  B  C\n",
       "0  9  4  0\n",
       "1  1  9  0\n",
       "2  1  8  9\n",
       "3  0  8  6\n",
       "4  4  3  0"
      ]
     },
     "execution_count": 11,
     "metadata": {},
     "output_type": "execute_result"
    }
   ],
   "source": [
    "import numpy as np\n",
    "import pandas as pd \n",
    "import scipy.stats as stats\n",
    "\n",
    "#create dataframe with three columns 'A', 'B', 'C'\n",
    "np.random.seed(10)\n",
    "#data = pd.DataFrame(np.random.randint(0, 10, size=(100, 3)), columns=['A', 'B', 'C'])\n",
    "\n",
    "col_names = ['A', 'B','C']\n",
    "\n",
    "data = pd.DataFrame(np.random.randint(0, 10, size=(100, 3)), columns=col_names)\n",
    "\n",
    "#view first 10 rows \n",
    "\n",
    "\n",
    "#data.head(10)\n",
    "#pd.DataFrame(data=)\n",
    "data.head()"
   ]
  },
  {
   "cell_type": "code",
   "execution_count": 16,
   "id": "2bf6c8e9",
   "metadata": {
    "id": "2bf6c8e9",
    "outputId": "d032d404-d5d9-4fd9-f082-a4bad56c7eef"
   },
   "outputs": [
    {
     "name": "stdout",
     "output_type": "stream",
     "text": [
      "    A  B  C\n",
      "0   9  4  0\n",
      "1   1  9  0\n",
      "2   1  8  9\n",
      "3   0  8  6\n",
      "4   4  3  0\n",
      ".. .. .. ..\n",
      "95  9  4  9\n",
      "96  0  1  7\n",
      "97  9  3  0\n",
      "98  8  1  5\n",
      "99  4  5  4\n",
      "\n",
      "[100 rows x 3 columns]\n"
     ]
    }
   ],
   "source": [
    "#find absolute value of z-score for each observation\n",
    "z = np.abs(stats.zscore(data))\n",
    "#z =stats.zscore(data)\n",
    "\n",
    "#df[(np.abs(stats.zscore(df)) < 3).all(axis=1)]\n",
    "#only keep rows in dataframe with all z-scores less than absolute value of 3 \n",
    "#(np.where(z < -3) and np.where( z > 3))\n",
    "\n",
    "data_clean = data[(z<3).all(axis=1)]\n",
    "\n",
    "#find how many rows are left in the dataframe \n",
    "# data_clean.shape\n",
    "\n",
    "print(data_clean)\n",
    "\n",
    "\n",
    "#print(z.min())\n",
    "#print(z.max())"
   ]
  },
  {
   "cell_type": "code",
   "execution_count": 17,
   "id": "2f091c78",
   "metadata": {
    "id": "2f091c78",
    "outputId": "726663e9-dd55-46fe-a479-03dc57a2d3d0"
   },
   "outputs": [
    {
     "name": "stdout",
     "output_type": "stream",
     "text": [
      "A    2.0\n",
      "B    2.0\n",
      "C    1.0\n",
      "Name: 0.25, dtype: float64\n",
      "----------------------------------------------------------------------------------------------------\n",
      "A    8.0\n",
      "B    7.0\n",
      "C    7.0\n",
      "Name: 0.75, dtype: float64\n",
      "----------------------------------------------------------------------------------------------------\n",
      "A    6.0\n",
      "B    5.0\n",
      "C    6.0\n",
      "dtype: float64\n",
      "----------------------------------------------------------------------------------------------------\n"
     ]
    },
    {
     "data": {
      "text/plain": [
       "(100, 3)"
      ]
     },
     "execution_count": 17,
     "metadata": {},
     "output_type": "execute_result"
    }
   ],
   "source": [
    "#find Q1, Q3, and interquartile range for each column\n",
    "Q1 = data.quantile(q=.25)\n",
    "Q3 = data.quantile(q=.75)\n",
    "IQR = data.apply(stats.iqr)\n",
    "\n",
    "#only keep rows in dataframe that have values within 1.5*IQR of Q1 and Q3\n",
    "data_clean = data[~((data < (Q1-1.5*IQR)) | (data > (Q3+1.5*IQR))).any(axis=1)]\n",
    "\n",
    "#find how many rows are left in the dataframe \n",
    "# data_clean.shape\n",
    "print(Q1)\n",
    "print('-'*100)\n",
    "print(Q3)\n",
    "print('-'*100)\n",
    "print(IQR)\n",
    "print('-'*100)\n",
    "data_clean.shape"
   ]
  },
  {
   "cell_type": "markdown",
   "id": "122f1d87",
   "metadata": {
    "id": "122f1d87"
   },
   "source": [
    "**one sample t-test**\n",
    "\n",
    "``Suppose a botanist wants to know if the mean height of a certain species of plant is equal to 15 inches. She collects a random sample of 12 plants and records each of their heights in inches.``"
   ]
  },
  {
   "cell_type": "code",
   "execution_count": 18,
   "id": "065f9b11",
   "metadata": {
    "id": "065f9b11",
    "outputId": "6b2a96b6-263e-418d-edac-61310a88fcdf"
   },
   "outputs": [
    {
     "data": {
      "text/plain": [
       "Ttest_1sampResult(statistic=-1.6848470783484626, pvalue=0.12014460742498101)"
      ]
     },
     "execution_count": 18,
     "metadata": {},
     "output_type": "execute_result"
    }
   ],
   "source": [
    "data = [14, 14, 16, 13, 12, 17, 15, 14, 15, 13, 15, 14]\n",
    "import scipy.stats as stats\n",
    "\n",
    "#perform one sample t-test\n",
    "stats.ttest_1samp(a=data, popmean=15)"
   ]
  },
  {
   "cell_type": "markdown",
   "id": "f74e0abe",
   "metadata": {
    "id": "f74e0abe"
   },
   "source": [
    "``The two hypotheses for this particular one sample t-test are as follows:``\n",
    "\n",
    "``H0: µ = 15 (the mean height for this species of plant is 15 inches)``\n",
    "\n",
    "``HA: µ ≠15 (the mean height is not 15 inches)``\n",
    "\n",
    "**Because the p-value of our test (0.1201) is greater than alpha = 0.05, we fail to reject the null hypothesis of the test. We do not have sufficient evidence to say that the mean height for this particular species of plant is different from 15 inches.**"
   ]
  },
  {
   "cell_type": "code",
   "execution_count": 21,
   "id": "c6815f41",
   "metadata": {
    "id": "c6815f41",
    "outputId": "be6f719d-e702-4b6d-be9d-d2b8a921bfae"
   },
   "outputs": [
    {
     "data": {
      "text/html": [
       "<div>\n",
       "<style scoped>\n",
       "    .dataframe tbody tr th:only-of-type {\n",
       "        vertical-align: middle;\n",
       "    }\n",
       "\n",
       "    .dataframe tbody tr th {\n",
       "        vertical-align: top;\n",
       "    }\n",
       "\n",
       "    .dataframe thead th {\n",
       "        text-align: right;\n",
       "    }\n",
       "</style>\n",
       "<table border=\"1\" class=\"dataframe\">\n",
       "  <thead>\n",
       "    <tr style=\"text-align: right;\">\n",
       "      <th></th>\n",
       "      <th>ID</th>\n",
       "      <th>Age</th>\n",
       "      <th>BMI</th>\n",
       "      <th>Risk Factor</th>\n",
       "    </tr>\n",
       "  </thead>\n",
       "  <tbody>\n",
       "    <tr>\n",
       "      <th>0</th>\n",
       "      <td>1</td>\n",
       "      <td>48</td>\n",
       "      <td>10.3</td>\n",
       "      <td>4.0</td>\n",
       "    </tr>\n",
       "    <tr>\n",
       "      <th>1</th>\n",
       "      <td>2</td>\n",
       "      <td>43</td>\n",
       "      <td>20.9</td>\n",
       "      <td>NaN</td>\n",
       "    </tr>\n",
       "    <tr>\n",
       "      <th>2</th>\n",
       "      <td>3</td>\n",
       "      <td>39</td>\n",
       "      <td>18.1</td>\n",
       "      <td>3.0</td>\n",
       "    </tr>\n",
       "    <tr>\n",
       "      <th>3</th>\n",
       "      <td>4</td>\n",
       "      <td>41</td>\n",
       "      <td>19.5</td>\n",
       "      <td>NaN</td>\n",
       "    </tr>\n",
       "  </tbody>\n",
       "</table>\n",
       "</div>"
      ],
      "text/plain": [
       "   ID  Age   BMI  Risk Factor\n",
       "0   1   48  10.3          4.0\n",
       "1   2   43  20.9          NaN\n",
       "2   3   39  18.1          3.0\n",
       "3   4   41  19.5          NaN"
      ]
     },
     "execution_count": 21,
     "metadata": {},
     "output_type": "execute_result"
    }
   ],
   "source": [
    "import numpy as np\n",
    "import pandas as pd\n",
    "columns =  ['ID','Age', 'BMI','Risk Factor']\n",
    "\n",
    "Dictionary = {'ID':[1,2,3,4],'Age':[48,43,39,41], 'BMI':[10.3, 20.9, 18.1, 19.5], 'Risk Factor':[4, np.nan,3, np.nan]}\n",
    "\n",
    "df =  pd.DataFrame(data=Dictionary)\n",
    "df"
   ]
  },
  {
   "cell_type": "code",
   "execution_count": 20,
   "id": "08252712",
   "metadata": {
    "id": "08252712",
    "outputId": "b0e803f9-8ce4-4896-8c2d-b68baaced728"
   },
   "outputs": [
    {
     "data": {
      "text/html": [
       "<div>\n",
       "<style scoped>\n",
       "    .dataframe tbody tr th:only-of-type {\n",
       "        vertical-align: middle;\n",
       "    }\n",
       "\n",
       "    .dataframe tbody tr th {\n",
       "        vertical-align: top;\n",
       "    }\n",
       "\n",
       "    .dataframe thead th {\n",
       "        text-align: right;\n",
       "    }\n",
       "</style>\n",
       "<table border=\"1\" class=\"dataframe\">\n",
       "  <thead>\n",
       "    <tr style=\"text-align: right;\">\n",
       "      <th></th>\n",
       "      <th>Age</th>\n",
       "      <th>BMI</th>\n",
       "      <th>Risk Factor</th>\n",
       "    </tr>\n",
       "  </thead>\n",
       "  <tbody>\n",
       "    <tr>\n",
       "      <th>0</th>\n",
       "      <td>48</td>\n",
       "      <td>10.3</td>\n",
       "      <td>4.0</td>\n",
       "    </tr>\n",
       "    <tr>\n",
       "      <th>1</th>\n",
       "      <td>43</td>\n",
       "      <td>20.9</td>\n",
       "      <td>NaN</td>\n",
       "    </tr>\n",
       "    <tr>\n",
       "      <th>2</th>\n",
       "      <td>39</td>\n",
       "      <td>18.1</td>\n",
       "      <td>3.0</td>\n",
       "    </tr>\n",
       "    <tr>\n",
       "      <th>3</th>\n",
       "      <td>41</td>\n",
       "      <td>19.5</td>\n",
       "      <td>NaN</td>\n",
       "    </tr>\n",
       "  </tbody>\n",
       "</table>\n",
       "</div>"
      ],
      "text/plain": [
       "   Age   BMI  Risk Factor\n",
       "0   48  10.3          4.0\n",
       "1   43  20.9          NaN\n",
       "2   39  18.1          3.0\n",
       "3   41  19.5          NaN"
      ]
     },
     "execution_count": 20,
     "metadata": {},
     "output_type": "execute_result"
    }
   ],
   "source": [
    "cols = list(df.columns)\n",
    "cols.remove('ID')\n",
    "df[cols]\n"
   ]
  },
  {
   "cell_type": "code",
   "execution_count": 22,
   "id": "11d55218",
   "metadata": {},
   "outputs": [],
   "source": [
    "df.drop('ID', inplace = True, axis = 1)"
   ]
  },
  {
   "cell_type": "code",
   "execution_count": 23,
   "id": "cad08bdc",
   "metadata": {},
   "outputs": [
    {
     "data": {
      "text/html": [
       "<div>\n",
       "<style scoped>\n",
       "    .dataframe tbody tr th:only-of-type {\n",
       "        vertical-align: middle;\n",
       "    }\n",
       "\n",
       "    .dataframe tbody tr th {\n",
       "        vertical-align: top;\n",
       "    }\n",
       "\n",
       "    .dataframe thead th {\n",
       "        text-align: right;\n",
       "    }\n",
       "</style>\n",
       "<table border=\"1\" class=\"dataframe\">\n",
       "  <thead>\n",
       "    <tr style=\"text-align: right;\">\n",
       "      <th></th>\n",
       "      <th>Age</th>\n",
       "      <th>BMI</th>\n",
       "      <th>Risk Factor</th>\n",
       "    </tr>\n",
       "  </thead>\n",
       "  <tbody>\n",
       "    <tr>\n",
       "      <th>0</th>\n",
       "      <td>48</td>\n",
       "      <td>10.3</td>\n",
       "      <td>4.0</td>\n",
       "    </tr>\n",
       "    <tr>\n",
       "      <th>1</th>\n",
       "      <td>43</td>\n",
       "      <td>20.9</td>\n",
       "      <td>NaN</td>\n",
       "    </tr>\n",
       "    <tr>\n",
       "      <th>2</th>\n",
       "      <td>39</td>\n",
       "      <td>18.1</td>\n",
       "      <td>3.0</td>\n",
       "    </tr>\n",
       "    <tr>\n",
       "      <th>3</th>\n",
       "      <td>41</td>\n",
       "      <td>19.5</td>\n",
       "      <td>NaN</td>\n",
       "    </tr>\n",
       "  </tbody>\n",
       "</table>\n",
       "</div>"
      ],
      "text/plain": [
       "   Age   BMI  Risk Factor\n",
       "0   48  10.3          4.0\n",
       "1   43  20.9          NaN\n",
       "2   39  18.1          3.0\n",
       "3   41  19.5          NaN"
      ]
     },
     "execution_count": 23,
     "metadata": {},
     "output_type": "execute_result"
    }
   ],
   "source": [
    "df"
   ]
  },
  {
   "cell_type": "code",
   "execution_count": 24,
   "id": "521f1c51",
   "metadata": {
    "id": "521f1c51",
    "outputId": "61e14ab9-17d9-4e45-d030-387b531c788c"
   },
   "outputs": [
    {
     "data": {
      "text/html": [
       "<div>\n",
       "<style scoped>\n",
       "    .dataframe tbody tr th:only-of-type {\n",
       "        vertical-align: middle;\n",
       "    }\n",
       "\n",
       "    .dataframe tbody tr th {\n",
       "        vertical-align: top;\n",
       "    }\n",
       "\n",
       "    .dataframe thead th {\n",
       "        text-align: right;\n",
       "    }\n",
       "</style>\n",
       "<table border=\"1\" class=\"dataframe\">\n",
       "  <thead>\n",
       "    <tr style=\"text-align: right;\">\n",
       "      <th></th>\n",
       "      <th>Age</th>\n",
       "      <th>BMI</th>\n",
       "      <th>Risk Factor</th>\n",
       "      <th>Age_zscore</th>\n",
       "      <th>BMI_zscore</th>\n",
       "      <th>Risk Factor_zscore</th>\n",
       "    </tr>\n",
       "  </thead>\n",
       "  <tbody>\n",
       "    <tr>\n",
       "      <th>0</th>\n",
       "      <td>48</td>\n",
       "      <td>10.3</td>\n",
       "      <td>4.0</td>\n",
       "      <td>1.569614</td>\n",
       "      <td>-1.680928</td>\n",
       "      <td>1.0</td>\n",
       "    </tr>\n",
       "    <tr>\n",
       "      <th>1</th>\n",
       "      <td>43</td>\n",
       "      <td>20.9</td>\n",
       "      <td>NaN</td>\n",
       "      <td>0.074744</td>\n",
       "      <td>0.901367</td>\n",
       "      <td>NaN</td>\n",
       "    </tr>\n",
       "    <tr>\n",
       "      <th>2</th>\n",
       "      <td>39</td>\n",
       "      <td>18.1</td>\n",
       "      <td>3.0</td>\n",
       "      <td>-1.121153</td>\n",
       "      <td>0.219251</td>\n",
       "      <td>-1.0</td>\n",
       "    </tr>\n",
       "    <tr>\n",
       "      <th>3</th>\n",
       "      <td>41</td>\n",
       "      <td>19.5</td>\n",
       "      <td>NaN</td>\n",
       "      <td>-0.523205</td>\n",
       "      <td>0.560309</td>\n",
       "      <td>NaN</td>\n",
       "    </tr>\n",
       "  </tbody>\n",
       "</table>\n",
       "</div>"
      ],
      "text/plain": [
       "   Age   BMI  Risk Factor  Age_zscore  BMI_zscore  Risk Factor_zscore\n",
       "0   48  10.3          4.0    1.569614   -1.680928                 1.0\n",
       "1   43  20.9          NaN    0.074744    0.901367                 NaN\n",
       "2   39  18.1          3.0   -1.121153    0.219251                -1.0\n",
       "3   41  19.5          NaN   -0.523205    0.560309                 NaN"
      ]
     },
     "execution_count": 24,
     "metadata": {},
     "output_type": "execute_result"
    }
   ],
   "source": [
    "# now iterate over the remaining columns and create a new zscore column\n",
    "#for each column logic\n",
    "for col in cols:\n",
    "    col_zscore = col + '_zscore'\n",
    "    df[col_zscore] = (df[col] - df[col].mean())/df[col].std(ddof=0)\n",
    "    \n",
    "# Delta Degrees of Freedom (ddof)\n",
    "df"
   ]
  },
  {
   "cell_type": "code",
   "execution_count": 29,
   "id": "3b0c6f48",
   "metadata": {
    "id": "3b0c6f48",
    "outputId": "a9548558-3602-45a0-b349-da2ebad59cce"
   },
   "outputs": [
    {
     "name": "stdout",
     "output_type": "stream",
     "text": [
      "   Age   BMI  Risk Factor\n",
      "0   48  10.3          4.0\n",
      "1   43  20.9          NaN\n",
      "2   39  18.1          3.0\n",
      "3   41  19.5          NaN\n"
     ]
    },
    {
     "data": {
      "text/html": [
       "<div>\n",
       "<style scoped>\n",
       "    .dataframe tbody tr th:only-of-type {\n",
       "        vertical-align: middle;\n",
       "    }\n",
       "\n",
       "    .dataframe tbody tr th {\n",
       "        vertical-align: top;\n",
       "    }\n",
       "\n",
       "    .dataframe thead th {\n",
       "        text-align: right;\n",
       "    }\n",
       "</style>\n",
       "<table border=\"1\" class=\"dataframe\">\n",
       "  <thead>\n",
       "    <tr style=\"text-align: right;\">\n",
       "      <th></th>\n",
       "      <th>Age_zscore</th>\n",
       "      <th>BMI_zscore</th>\n",
       "      <th>Risk_Factor_zscore</th>\n",
       "    </tr>\n",
       "  </thead>\n",
       "  <tbody>\n",
       "    <tr>\n",
       "      <th>0</th>\n",
       "      <td>NaN</td>\n",
       "      <td>NaN</td>\n",
       "      <td>NaN</td>\n",
       "    </tr>\n",
       "    <tr>\n",
       "      <th>1</th>\n",
       "      <td>NaN</td>\n",
       "      <td>NaN</td>\n",
       "      <td>NaN</td>\n",
       "    </tr>\n",
       "    <tr>\n",
       "      <th>2</th>\n",
       "      <td>NaN</td>\n",
       "      <td>NaN</td>\n",
       "      <td>NaN</td>\n",
       "    </tr>\n",
       "    <tr>\n",
       "      <th>3</th>\n",
       "      <td>NaN</td>\n",
       "      <td>NaN</td>\n",
       "      <td>NaN</td>\n",
       "    </tr>\n",
       "  </tbody>\n",
       "</table>\n",
       "</div>"
      ],
      "text/plain": [
       "   Age_zscore  BMI_zscore  Risk_Factor_zscore\n",
       "0         NaN         NaN                 NaN\n",
       "1         NaN         NaN                 NaN\n",
       "2         NaN         NaN                 NaN\n",
       "3         NaN         NaN                 NaN"
      ]
     },
     "execution_count": 29,
     "metadata": {},
     "output_type": "execute_result"
    }
   ],
   "source": [
    "from scipy import stats\n",
    "import numpy as np\n",
    "import pandas as pd\n",
    "\n",
    "\n",
    "Dictionary = {'ID':[1,2,3,4],'Age':[48,43,39,41], 'BMI':[10.3, 20.9, 18.1, 19.5], 'Risk Factor':[4, np.nan,3, np.nan]}\n",
    "\n",
    "df_1 =  pd.DataFrame(data=Dictionary)\n",
    "df_1.drop(columns=['ID'], axis=1, inplace=True)\n",
    "print(df_1)\n",
    "#for the entire dataset\n",
    "#axis  = None --> calculates mean and std deviation for the entire dataset  and calculates corresponding z scores\n",
    "zscore_data = stats.zscore(df_1, axis=0,nan_policy='omit', ddof=0)\n",
    "pd.DataFrame(data=zscore_data, columns=['Age_zscore','BMI_zscore','Risk_Factor_zscore' ]) "
   ]
  },
  {
   "cell_type": "code",
   "execution_count": 30,
   "id": "7f8498d3",
   "metadata": {
    "id": "7f8498d3",
    "outputId": "8d913493-f430-4cd2-a825-1a43f6591cfc"
   },
   "outputs": [
    {
     "data": {
      "text/html": [
       "<div>\n",
       "<style scoped>\n",
       "    .dataframe tbody tr th:only-of-type {\n",
       "        vertical-align: middle;\n",
       "    }\n",
       "\n",
       "    .dataframe tbody tr th {\n",
       "        vertical-align: top;\n",
       "    }\n",
       "\n",
       "    .dataframe thead th {\n",
       "        text-align: right;\n",
       "    }\n",
       "</style>\n",
       "<table border=\"1\" class=\"dataframe\">\n",
       "  <thead>\n",
       "    <tr style=\"text-align: right;\">\n",
       "      <th></th>\n",
       "      <th>Age_zscore</th>\n",
       "      <th>BMI_zscore</th>\n",
       "      <th>Risk_Factor_zscore</th>\n",
       "    </tr>\n",
       "  </thead>\n",
       "  <tbody>\n",
       "    <tr>\n",
       "      <th>0</th>\n",
       "      <td>NaN</td>\n",
       "      <td>NaN</td>\n",
       "      <td>NaN</td>\n",
       "    </tr>\n",
       "    <tr>\n",
       "      <th>1</th>\n",
       "      <td>NaN</td>\n",
       "      <td>NaN</td>\n",
       "      <td>NaN</td>\n",
       "    </tr>\n",
       "    <tr>\n",
       "      <th>2</th>\n",
       "      <td>NaN</td>\n",
       "      <td>NaN</td>\n",
       "      <td>NaN</td>\n",
       "    </tr>\n",
       "    <tr>\n",
       "      <th>3</th>\n",
       "      <td>NaN</td>\n",
       "      <td>NaN</td>\n",
       "      <td>NaN</td>\n",
       "    </tr>\n",
       "  </tbody>\n",
       "</table>\n",
       "</div>"
      ],
      "text/plain": [
       "   Age_zscore  BMI_zscore  Risk_Factor_zscore\n",
       "0         NaN         NaN                 NaN\n",
       "1         NaN         NaN                 NaN\n",
       "2         NaN         NaN                 NaN\n",
       "3         NaN         NaN                 NaN"
      ]
     },
     "execution_count": 30,
     "metadata": {},
     "output_type": "execute_result"
    }
   ],
   "source": [
    "Dictionary = {'ID':[1,2,3,4],'Age':[48,43,39,41], 'BMI':[10.3, 20.9, 18.1, 19.5], 'Risk Factor':[4, np.nan,3, np.nan]}\n",
    "\n",
    "df1 =  pd.DataFrame(data=Dictionary)\n",
    "\n",
    "#dropping id\n",
    "df1.drop(columns=['ID'], axis=1, inplace=True)\n",
    "\n",
    "#for the entire dataset\n",
    "#axis  = 0 --> calculates mean and std deviation columnwise and calculates correponding zscore for each value\n",
    "zscore_data = stats.zscore(df1, axis=0, nan_policy='omit', ddof=0)\n",
    "pd.DataFrame(data=zscore_data, columns=['Age_zscore','BMI_zscore','Risk_Factor_zscore' ]) "
   ]
  },
  {
   "cell_type": "code",
   "execution_count": 31,
   "id": "5cd355d6",
   "metadata": {
    "id": "5cd355d6",
    "outputId": "31c0fd43-bdc1-42ab-c12e-2187bc949888"
   },
   "outputs": [
    {
     "data": {
      "text/html": [
       "<div>\n",
       "<style scoped>\n",
       "    .dataframe tbody tr th:only-of-type {\n",
       "        vertical-align: middle;\n",
       "    }\n",
       "\n",
       "    .dataframe tbody tr th {\n",
       "        vertical-align: top;\n",
       "    }\n",
       "\n",
       "    .dataframe thead th {\n",
       "        text-align: right;\n",
       "    }\n",
       "</style>\n",
       "<table border=\"1\" class=\"dataframe\">\n",
       "  <thead>\n",
       "    <tr style=\"text-align: right;\">\n",
       "      <th></th>\n",
       "      <th>Age_zscore</th>\n",
       "      <th>BMI_zscore</th>\n",
       "      <th>Risk_Factor_zscore</th>\n",
       "    </tr>\n",
       "  </thead>\n",
       "  <tbody>\n",
       "    <tr>\n",
       "      <th>0</th>\n",
       "      <td>NaN</td>\n",
       "      <td>NaN</td>\n",
       "      <td>NaN</td>\n",
       "    </tr>\n",
       "    <tr>\n",
       "      <th>1</th>\n",
       "      <td>NaN</td>\n",
       "      <td>NaN</td>\n",
       "      <td>NaN</td>\n",
       "    </tr>\n",
       "    <tr>\n",
       "      <th>2</th>\n",
       "      <td>NaN</td>\n",
       "      <td>NaN</td>\n",
       "      <td>NaN</td>\n",
       "    </tr>\n",
       "    <tr>\n",
       "      <th>3</th>\n",
       "      <td>NaN</td>\n",
       "      <td>NaN</td>\n",
       "      <td>NaN</td>\n",
       "    </tr>\n",
       "  </tbody>\n",
       "</table>\n",
       "</div>"
      ],
      "text/plain": [
       "   Age_zscore  BMI_zscore  Risk_Factor_zscore\n",
       "0         NaN         NaN                 NaN\n",
       "1         NaN         NaN                 NaN\n",
       "2         NaN         NaN                 NaN\n",
       "3         NaN         NaN                 NaN"
      ]
     },
     "execution_count": 31,
     "metadata": {},
     "output_type": "execute_result"
    }
   ],
   "source": [
    "Dictionary = {'ID':[1,2,3,4],'Age':[48,43,39,41], 'BMI':[10.3, 20.9, 18.1, 19.5], 'Risk Factor':[4, np.nan,3, np.nan]}\n",
    "\n",
    "df1 =  pd.DataFrame(data=Dictionary)\n",
    "\n",
    "#dropping id \n",
    "df1.drop(columns=['ID'], axis=1, inplace=True)\n",
    "\n",
    "#for the entire dataset\n",
    "#axis  = 1 --> calculates mean and std deviation for row wise and calculates correponding zscore for each value\n",
    "zscore_data = stats.zscore(df1, axis=1, nan_policy='omit', ddof=0)\n",
    "pd.DataFrame(data=zscore_data, columns=['Age_zscore','BMI_zscore','Risk_Factor_zscore' ]) "
   ]
  },
  {
   "cell_type": "markdown",
   "id": "7a9ea310",
   "metadata": {},
   "source": [
    "**finding correlations**"
   ]
  },
  {
   "cell_type": "code",
   "execution_count": 32,
   "id": "f5024f71",
   "metadata": {},
   "outputs": [
    {
     "data": {
      "text/html": [
       "<div>\n",
       "<style scoped>\n",
       "    .dataframe tbody tr th:only-of-type {\n",
       "        vertical-align: middle;\n",
       "    }\n",
       "\n",
       "    .dataframe tbody tr th {\n",
       "        vertical-align: top;\n",
       "    }\n",
       "\n",
       "    .dataframe thead th {\n",
       "        text-align: right;\n",
       "    }\n",
       "</style>\n",
       "<table border=\"1\" class=\"dataframe\">\n",
       "  <thead>\n",
       "    <tr style=\"text-align: right;\">\n",
       "      <th></th>\n",
       "      <th>A</th>\n",
       "      <th>B</th>\n",
       "      <th>C</th>\n",
       "    </tr>\n",
       "  </thead>\n",
       "  <tbody>\n",
       "    <tr>\n",
       "      <th>A</th>\n",
       "      <td>1.000000</td>\n",
       "      <td>-0.065767</td>\n",
       "      <td>0.889297</td>\n",
       "    </tr>\n",
       "    <tr>\n",
       "      <th>B</th>\n",
       "      <td>-0.065767</td>\n",
       "      <td>1.000000</td>\n",
       "      <td>0.090388</td>\n",
       "    </tr>\n",
       "    <tr>\n",
       "      <th>C</th>\n",
       "      <td>0.889297</td>\n",
       "      <td>0.090388</td>\n",
       "      <td>1.000000</td>\n",
       "    </tr>\n",
       "  </tbody>\n",
       "</table>\n",
       "</div>"
      ],
      "text/plain": [
       "          A         B         C\n",
       "A  1.000000 -0.065767  0.889297\n",
       "B -0.065767  1.000000  0.090388\n",
       "C  0.889297  0.090388  1.000000"
      ]
     },
     "execution_count": 32,
     "metadata": {},
     "output_type": "execute_result"
    }
   ],
   "source": [
    "import pandas as pd\n",
    "import numpy as np\n",
    "\n",
    "\n",
    "data = pd.DataFrame(np.random.randint(0, 10, size=(5, 3)), columns=['A', 'B', 'C'])\n",
    "data.corr()"
   ]
  },
  {
   "cell_type": "markdown",
   "id": "12c6fa19",
   "metadata": {},
   "source": [
    "**Generate a Normal Distribution in Python**\n",
    "``where:\n",
    "loc: Mean of the distribution. Default is 0.\n",
    "scale: Standard deviation of the distribution. Default is 1.\n",
    "size: Sample size.``"
   ]
  },
  {
   "cell_type": "code",
   "execution_count": 33,
   "id": "cf817324",
   "metadata": {},
   "outputs": [
    {
     "data": {
      "text/plain": [
       "-0.7342880591208398"
      ]
     },
     "execution_count": 33,
     "metadata": {},
     "output_type": "execute_result"
    }
   ],
   "source": [
    "np.random.normal(loc=0.0, scale=1.0, size=None)"
   ]
  },
  {
   "cell_type": "code",
   "execution_count": 34,
   "id": "5417e232",
   "metadata": {},
   "outputs": [
    {
     "data": {
      "text/plain": [
       "array([ 1.62434536, -0.61175641, -0.52817175, -1.07296862,  0.86540763,\n",
       "       -2.3015387 ,  1.74481176, -0.7612069 ,  0.3190391 , -0.24937038,\n",
       "        1.46210794, -2.06014071, -0.3224172 , -0.38405435,  1.13376944,\n",
       "       -1.09989127, -0.17242821, -0.87785842,  0.04221375,  0.58281521,\n",
       "       -1.10061918,  1.14472371,  0.90159072,  0.50249434,  0.90085595,\n",
       "       -0.68372786, -0.12289023, -0.93576943, -0.26788808,  0.53035547,\n",
       "       -0.69166075, -0.39675353, -0.6871727 , -0.84520564, -0.67124613,\n",
       "       -0.0126646 , -1.11731035,  0.2344157 ,  1.65980218,  0.74204416,\n",
       "       -0.19183555, -0.88762896, -0.74715829,  1.6924546 ,  0.05080775,\n",
       "       -0.63699565,  0.19091548,  2.10025514,  0.12015895,  0.61720311,\n",
       "        0.30017032, -0.35224985, -1.1425182 , -0.34934272, -0.20889423,\n",
       "        0.58662319,  0.83898341,  0.93110208,  0.28558733,  0.88514116,\n",
       "       -0.75439794,  1.25286816,  0.51292982, -0.29809284,  0.48851815,\n",
       "       -0.07557171,  1.13162939,  1.51981682,  2.18557541, -1.39649634,\n",
       "       -1.44411381, -0.50446586,  0.16003707,  0.87616892,  0.31563495,\n",
       "       -2.02220122, -0.30620401,  0.82797464,  0.23009474,  0.76201118,\n",
       "       -0.22232814, -0.20075807,  0.18656139,  0.41005165,  0.19829972,\n",
       "        0.11900865, -0.67066229,  0.37756379,  0.12182127,  1.12948391,\n",
       "        1.19891788,  0.18515642, -0.37528495, -0.63873041,  0.42349435,\n",
       "        0.07734007, -0.34385368,  0.04359686, -0.62000084,  0.69803203,\n",
       "       -0.44712856,  1.2245077 ,  0.40349164,  0.59357852, -1.09491185,\n",
       "        0.16938243,  0.74055645, -0.9537006 , -0.26621851,  0.03261455,\n",
       "       -1.37311732,  0.31515939,  0.84616065, -0.85951594,  0.35054598,\n",
       "       -1.31228341, -0.03869551, -1.61577235,  1.12141771,  0.40890054,\n",
       "       -0.02461696, -0.77516162,  1.27375593,  1.96710175, -1.85798186,\n",
       "        1.23616403,  1.62765075,  0.3380117 , -1.19926803,  0.86334532,\n",
       "       -0.1809203 , -0.60392063, -1.23005814,  0.5505375 ,  0.79280687,\n",
       "       -0.62353073,  0.52057634, -1.14434139,  0.80186103,  0.0465673 ,\n",
       "       -0.18656977, -0.10174587,  0.86888616,  0.75041164,  0.52946532,\n",
       "        0.13770121,  0.07782113,  0.61838026,  0.23249456,  0.68255141,\n",
       "       -0.31011677, -2.43483776,  1.0388246 ,  2.18697965,  0.44136444,\n",
       "       -0.10015523, -0.13644474, -0.11905419,  0.01740941, -1.12201873,\n",
       "       -0.51709446, -0.99702683,  0.24879916, -0.29664115,  0.49521132,\n",
       "       -0.17470316,  0.98633519,  0.2135339 ,  2.19069973, -1.89636092,\n",
       "       -0.64691669,  0.90148689,  2.52832571, -0.24863478,  0.04366899,\n",
       "       -0.22631424,  1.33145711, -0.28730786,  0.68006984, -0.3198016 ,\n",
       "       -1.27255876,  0.31354772,  0.50318481,  1.29322588, -0.11044703,\n",
       "       -0.61736206,  0.5627611 ,  0.24073709,  0.28066508, -0.0731127 ,\n",
       "        1.16033857,  0.36949272,  1.90465871,  1.1110567 ,  0.6590498 ,\n",
       "       -1.62743834,  0.60231928,  0.4202822 ,  0.81095167,  1.04444209])"
      ]
     },
     "execution_count": 34,
     "metadata": {},
     "output_type": "execute_result"
    }
   ],
   "source": [
    "from numpy.random import seed\n",
    "from numpy.random import normal\n",
    "\n",
    "#make this example reproducible\n",
    "seed(1)\n",
    "\n",
    "#generate sample of 200 values that follow a normal distribution \n",
    "data = normal(loc=0, scale=1, size=200)\n",
    "data"
   ]
  },
  {
   "cell_type": "code",
   "execution_count": 35,
   "id": "09a5d64e",
   "metadata": {},
   "outputs": [],
   "source": [
    "import seaborn as sns\n",
    "import warnings \n",
    "warnings.filterwarnings('ignore')"
   ]
  },
  {
   "cell_type": "code",
   "execution_count": 38,
   "id": "d0a18b05",
   "metadata": {},
   "outputs": [
    {
     "data": {
      "text/plain": [
       "<AxesSubplot:ylabel='Density'>"
      ]
     },
     "execution_count": 38,
     "metadata": {},
     "output_type": "execute_result"
    },
    {
     "data": {
      "image/png": "[encoded data removed]",
      "text/plain": [
       "<Figure size 432x288 with 1 Axes>"
      ]
     },
     "metadata": {
      "needs_background": "light"
     },
     "output_type": "display_data"
    }
   ],
   "source": [
    "sns.distplot(data)  #visualize data"
   ]
  },
  {
   "cell_type": "markdown",
   "id": "859b6721",
   "metadata": {},
   "source": [
    "\n",
    "**Normality Test**\n",
    "<br>\n",
    "**scipy.stats.normaltest(a, axis=0, nan_policy='propagate')**\n",
    "<br>\n",
    "**Test whether a sample differs from a normal distribution.**\n",
    "\n",
    "<br>\n",
    "<br>\n",
    "\n",
    "**p <= alpha: reject H0, not normal.\n",
    "<br>\n",
    "p > alpha: fail to reject H0, normal**"
   ]
  },
  {
   "cell_type": "code",
   "execution_count": null,
   "id": "d91a419a",
   "metadata": {},
   "outputs": [],
   "source": []
  },
  {
   "cell_type": "code",
   "execution_count": 39,
   "id": "2efd2cc0",
   "metadata": {},
   "outputs": [
    {
     "name": "stdout",
     "output_type": "stream",
     "text": [
      "Statistics=0.102, p=0.950\n",
      "Sample looks Gaussian (fail to reject H0)\n"
     ]
    }
   ],
   "source": [
    "# D'Agostino and Pearson's Test\n",
    "from numpy.random import seed\n",
    "from numpy.random import randn\n",
    "from scipy.stats import normaltest\n",
    "\n",
    "# seed the random number generator\n",
    "seed(1)\n",
    "# generate univariate observations\n",
    "\n",
    "data = 5 * randn(100) + 50\n",
    "\n",
    "# normality test\n",
    "stat, p = normaltest(data)\n",
    "\n",
    "print('Statistics=%.3f, p=%.3f' % (stat, p))\n",
    "# interpret\n",
    "alpha = 0.05\n",
    "if p > alpha:\n",
    "    print('Sample looks Gaussian (fail to reject H0)')\n",
    "else:\n",
    "    print('Sample does not look Gaussian (reject H0)')"
   ]
  },
  {
   "cell_type": "code",
   "execution_count": null,
   "id": "c1383183",
   "metadata": {},
   "outputs": [],
   "source": []
  },
  {
   "cell_type": "code",
   "execution_count": null,
   "id": "d21286f6",
   "metadata": {},
   "outputs": [],
   "source": []
  },
  {
   "cell_type": "code",
   "execution_count": null,
   "id": "ca0b6ce9",
   "metadata": {},
   "outputs": [],
   "source": []
  },
  {
   "cell_type": "markdown",
   "id": "309647d7",
   "metadata": {},
   "source": [
    "### How to Remove Outliers in Python"
   ]
  },
  {
   "cell_type": "markdown",
   "id": "e7dd8ddb",
   "metadata": {},
   "source": [
    "**An outlier is an observation that lies abnormally far away from other values in a dataset. Outliers can be problematic because they can affect the results of an analysis.**"
   ]
  },
  {
   "cell_type": "markdown",
   "id": "337d1d88",
   "metadata": {},
   "source": [
    "**1. Use the interquartile range.**\n",
    "<br>\n",
    "**The interquartile range (IQR) is the difference between the 75th percentile (Q3) and the 25th percentile (Q1) in a dataset. It measures the spread of the middle 50% of values.**\n",
    "<br>\n",
    "        ``Outliers = Observations > Q3 + 1.5*IQR  or  Q1 – 1.5*IQR``\n",
    "        \n",
    "<br>\n",
    "\n",
    "**2.z-scores.**\n",
    "\n",
    "A z-score tells you how many standard deviations a given value is from the mean. We use the following formula to calculate a z-score:\n",
    "\n",
    "``z = (X – μ) / σ``\n",
    "\n",
    "where:\n",
    "\n",
    "X is a single raw data value\n",
    "μ is the population mean\n",
    "σ is the population standard deviation"
   ]
  },
  {
   "cell_type": "markdown",
   "id": "08a8814f",
   "metadata": {},
   "source": [
    "**You could define an observation to be an outlier if it has a z-score less than -3 or greater than 3.**\n",
    "\n",
    "``Outliers = Observations with z-scores > 3 or < -3``"
   ]
  },
  {
   "cell_type": "code",
   "execution_count": 40,
   "id": "23469992",
   "metadata": {},
   "outputs": [
    {
     "data": {
      "text/html": [
       "<div>\n",
       "<style scoped>\n",
       "    .dataframe tbody tr th:only-of-type {\n",
       "        vertical-align: middle;\n",
       "    }\n",
       "\n",
       "    .dataframe tbody tr th {\n",
       "        vertical-align: top;\n",
       "    }\n",
       "\n",
       "    .dataframe thead th {\n",
       "        text-align: right;\n",
       "    }\n",
       "</style>\n",
       "<table border=\"1\" class=\"dataframe\">\n",
       "  <thead>\n",
       "    <tr style=\"text-align: right;\">\n",
       "      <th></th>\n",
       "      <th>A</th>\n",
       "      <th>B</th>\n",
       "      <th>C</th>\n",
       "    </tr>\n",
       "  </thead>\n",
       "  <tbody>\n",
       "    <tr>\n",
       "      <th>0</th>\n",
       "      <td>9</td>\n",
       "      <td>4</td>\n",
       "      <td>0</td>\n",
       "    </tr>\n",
       "    <tr>\n",
       "      <th>1</th>\n",
       "      <td>1</td>\n",
       "      <td>9</td>\n",
       "      <td>0</td>\n",
       "    </tr>\n",
       "    <tr>\n",
       "      <th>2</th>\n",
       "      <td>1</td>\n",
       "      <td>8</td>\n",
       "      <td>9</td>\n",
       "    </tr>\n",
       "    <tr>\n",
       "      <th>3</th>\n",
       "      <td>0</td>\n",
       "      <td>8</td>\n",
       "      <td>6</td>\n",
       "    </tr>\n",
       "    <tr>\n",
       "      <th>4</th>\n",
       "      <td>4</td>\n",
       "      <td>3</td>\n",
       "      <td>0</td>\n",
       "    </tr>\n",
       "    <tr>\n",
       "      <th>5</th>\n",
       "      <td>4</td>\n",
       "      <td>6</td>\n",
       "      <td>8</td>\n",
       "    </tr>\n",
       "    <tr>\n",
       "      <th>6</th>\n",
       "      <td>1</td>\n",
       "      <td>8</td>\n",
       "      <td>4</td>\n",
       "    </tr>\n",
       "    <tr>\n",
       "      <th>7</th>\n",
       "      <td>1</td>\n",
       "      <td>3</td>\n",
       "      <td>6</td>\n",
       "    </tr>\n",
       "    <tr>\n",
       "      <th>8</th>\n",
       "      <td>5</td>\n",
       "      <td>3</td>\n",
       "      <td>9</td>\n",
       "    </tr>\n",
       "    <tr>\n",
       "      <th>9</th>\n",
       "      <td>6</td>\n",
       "      <td>9</td>\n",
       "      <td>1</td>\n",
       "    </tr>\n",
       "  </tbody>\n",
       "</table>\n",
       "</div>"
      ],
      "text/plain": [
       "   A  B  C\n",
       "0  9  4  0\n",
       "1  1  9  0\n",
       "2  1  8  9\n",
       "3  0  8  6\n",
       "4  4  3  0\n",
       "5  4  6  8\n",
       "6  1  8  4\n",
       "7  1  3  6\n",
       "8  5  3  9\n",
       "9  6  9  1"
      ]
     },
     "execution_count": 40,
     "metadata": {},
     "output_type": "execute_result"
    }
   ],
   "source": [
    "import numpy as np\n",
    "import pandas as pd \n",
    "import scipy.stats as stats\n",
    "\n",
    "#create dataframe with three columns 'A', 'B', 'C'\n",
    "np.random.seed(10)\n",
    "data = pd.DataFrame(np.random.randint(0, 10, size=(100, 3)), columns=['A', 'B', 'C'])\n",
    "\n",
    "#view first 10 rows \n",
    "data[:10]"
   ]
  },
  {
   "cell_type": "code",
   "execution_count": 41,
   "id": "3969fe81",
   "metadata": {},
   "outputs": [
    {
     "data": {
      "text/plain": [
       "(100, 3)"
      ]
     },
     "execution_count": 41,
     "metadata": {},
     "output_type": "execute_result"
    }
   ],
   "source": [
    "#find absolute value of z-score for each observation\n",
    "z = np.abs(stats.zscore(data))\n",
    "\n",
    "#only keep rows in dataframe with all z-scores less than absolute value of 3 \n",
    "data_clean = data[(z<3).all(axis=1)]\n",
    "\n",
    "#find how many rows are left in the dataframe \n",
    "data_clean.shape"
   ]
  },
  {
   "cell_type": "code",
   "execution_count": 42,
   "id": "b5e993fa",
   "metadata": {},
   "outputs": [
    {
     "data": {
      "text/plain": [
       "(100, 3)"
      ]
     },
     "execution_count": 42,
     "metadata": {},
     "output_type": "execute_result"
    }
   ],
   "source": [
    "#find Q1, Q3, and interquartile range for each column\n",
    "Q1 = data.quantile(q=.25)\n",
    "Q3 = data.quantile(q=.75)\n",
    "IQR = data.apply(stats.iqr)\n",
    "\n",
    "#only keep rows in dataframe that have values within 1.5*IQR of Q1 and Q3\n",
    "data_clean = data[~((data < (Q1-1.5*IQR)) | (data > (Q3+1.5*IQR))).any(axis=1)]\n",
    "\n",
    "#find how many rows are left in the dataframe \n",
    "data_clean.shape"
   ]
  },
  {
   "cell_type": "code",
   "execution_count": null,
   "id": "d950292d",
   "metadata": {},
   "outputs": [],
   "source": []
  },
  {
   "cell_type": "code",
   "execution_count": null,
   "id": "7f9dfb5c",
   "metadata": {},
   "outputs": [],
   "source": []
  },
  {
   "cell_type": "markdown",
   "id": "443088cf",
   "metadata": {},
   "source": [
    "<h1 style = \"color:orange;\"> Normality Test</h1>"
   ]
  },
  {
   "cell_type": "markdown",
   "id": "4b166f64",
   "metadata": {},
   "source": [
    "In statistics, normality tests are used to check if the data is drawn from a Gaussian distribution or in simple if a variable or in sample has a normal distribution.\n",
    "\n",
    "There are two ways to test normality:\n",
    "\n",
    "1. Graphs for Normality test\n",
    "2. Statistical Tests for Normality"
   ]
  },
  {
   "cell_type": "markdown",
   "id": "46c9a79e",
   "metadata": {},
   "source": [
    "<h1 style = \"color:cyan\"> 1. Graphs for Normality test </h1>\n",
    "\n",
    "Various graphs can be used to test the normality of a variable. Using graphs/plots we can visually see the normality but graphs are not very accurate as statistical methods."
   ]
  },
  {
   "cell_type": "markdown",
   "id": "31febd69",
   "metadata": {},
   "source": [
    "<h1 style = \"color:OrangeRed;\"> 1.Q Q or Quantile-Quantile Plot </h1>"
   ]
  },
  {
   "cell_type": "markdown",
   "id": "5438a072",
   "metadata": {},
   "source": [
    "It plots two sets of quantiles against one another i.e. theoretical quantiles against the actual quantiles of the variable.\n",
    "\n"
   ]
  },
  {
   "cell_type": "code",
   "execution_count": 44,
   "id": "cc55e4fa",
   "metadata": {},
   "outputs": [],
   "source": [
    "import numpy as np\n",
    "import pandas as pd\n",
    "import pylab\n",
    "import scipy.stats as stats"
   ]
  },
  {
   "cell_type": "code",
   "execution_count": 45,
   "id": "2587572d",
   "metadata": {},
   "outputs": [
    {
     "data": {
      "image/png": "[encoded data removed]",
      "text/plain": [
       "<Figure size 432x288 with 1 Axes>"
      ]
     },
     "metadata": {
      "needs_background": "light"
     },
     "output_type": "display_data"
    }
   ],
   "source": [
    "measurements = np.random.normal(loc = 20, scale = 5, size = 150)\n",
    "\n",
    "stats.probplot(measurements, dist = \"norm\", plot = pylab)\n",
    "pylab.show()"
   ]
  },
  {
   "cell_type": "markdown",
   "id": "5e99b803",
   "metadata": {},
   "source": [
    "If our data comes from a normal distribution, we should see all the points sitting on the straight line."
   ]
  },
  {
   "cell_type": "code",
   "execution_count": null,
   "id": "85e6b5e5",
   "metadata": {},
   "outputs": [],
   "source": []
  },
  {
   "cell_type": "markdown",
   "id": "da0b45a8",
   "metadata": {},
   "source": [
    "<h1 style = \"color:OrangeRed;\"> 2. Box Plot </h1>"
   ]
  },
  {
   "cell_type": "markdown",
   "id": "b3054416",
   "metadata": {},
   "source": [
    "<h1 style = \"color : cyan\">Method 1: Create a Histogram </h1>"
   ]
  },
  {
   "cell_type": "code",
   "execution_count": 47,
   "id": "d418d949",
   "metadata": {},
   "outputs": [
    {
     "data": {
      "text/plain": [
       "(array([110., 307., 247., 168.,  84.,  37.,  28.,  10.,   3.,   3.,   0.,\n",
       "          0.,   1.,   0.,   1.,   0.,   0.,   0.,   0.,   1.]),\n",
       " array([ 0.59044299,  1.54462417,  2.49880535,  3.45298653,  4.40716771,\n",
       "         5.36134889,  6.31553007,  7.26971125,  8.22389243,  9.17807361,\n",
       "        10.13225479, 11.08643597, 12.04061715, 12.99479833, 13.94897951,\n",
       "        14.90316069, 15.85734187, 16.81152305, 17.76570423, 18.71988542,\n",
       "        19.6740666 ]),\n",
       " <BarContainer object of 20 artists>)"
      ]
     },
     "execution_count": 47,
     "metadata": {},
     "output_type": "execute_result"
    },
    {
     "data": {
      "image/png": "[encoded data removed]",
      "text/plain": [
       "<Figure size 432x288 with 1 Axes>"
      ]
     },
     "metadata": {
      "needs_background": "light"
     },
     "output_type": "display_data"
    }
   ],
   "source": [
    "import math\n",
    "import numpy as np\n",
    "from scipy.stats import lognorm\n",
    "import matplotlib.pyplot as plt\n",
    "\n",
    "#make this example reproducible\n",
    "np.random.seed(1)\n",
    "\n",
    "#generate dataset that contains 1000 log-normal distributed values\n",
    "lognorm_dataset = lognorm.rvs(s=.5, scale=math.exp(1), size=1000)\n",
    "\n",
    "#create histogram to visualize values in dataset\n",
    "plt.hist(lognorm_dataset, edgecolor='black', bins=20)"
   ]
  },
  {
   "cell_type": "code",
   "execution_count": null,
   "id": "5f3bccdb",
   "metadata": {},
   "outputs": [],
   "source": []
  },
  {
   "cell_type": "markdown",
   "id": "789dfa38",
   "metadata": {},
   "source": [
    "<h1 style = \"color : cyan\">Method 2: Create a Q-Q plot</h1>"
   ]
  },
  {
   "cell_type": "code",
   "execution_count": 48,
   "id": "f880e329",
   "metadata": {},
   "outputs": [
    {
     "data": {
      "image/png": "[encoded data removed]",
      "text/plain": [
       "<Figure size 432x288 with 1 Axes>"
      ]
     },
     "metadata": {
      "needs_background": "light"
     },
     "output_type": "display_data"
    }
   ],
   "source": [
    "import math\n",
    "import numpy as np\n",
    "from scipy.stats import lognorm\n",
    "import statsmodels.api as sm\n",
    "import matplotlib.pyplot as plt\n",
    "\n",
    "#make this example reproducible\n",
    "np.random.seed(1)\n",
    "\n",
    "#generate dataset that contains 1000 log-normal distributed values\n",
    "lognorm_dataset = lognorm.rvs(s=.5, scale=math.exp(1), size=1000)\n",
    "\n",
    "#create Q-Q plot with 45-degree line added to plot\n",
    "fig = sm.qqplot(lognorm_dataset, line='45')\n",
    "\n",
    "plt.show()"
   ]
  },
  {
   "cell_type": "markdown",
   "id": "32182f2c",
   "metadata": {},
   "source": [
    "If the points on the plot fall roughly along a straight diagonal line, then we typically assume a dataset is normally distributed.\n",
    "\n",
    "However, the points on this plot clearly don’t fall along the red line, so we would not assume that this dataset is normally distributed.\n",
    "\n",
    "This should make sense considering we generated the data using a log-normal distribution function."
   ]
  },
  {
   "cell_type": "code",
   "execution_count": null,
   "id": "15102f95",
   "metadata": {},
   "outputs": [],
   "source": []
  },
  {
   "cell_type": "markdown",
   "id": "5ddcccdd",
   "metadata": {},
   "source": [
    "<h1 style = \"color : cyan\"> Method 3: Perform a Shapiro-Wilk Test </h1>"
   ]
  },
  {
   "cell_type": "code",
   "execution_count": 51,
   "id": "35c68b91",
   "metadata": {},
   "outputs": [
    {
     "name": "stdout",
     "output_type": "stream",
     "text": [
      "ShapiroResult(statistic=0.8573324680328369, pvalue=3.880663073872444e-29)\n"
     ]
    }
   ],
   "source": [
    "import math\n",
    "import numpy as np\n",
    "from scipy.stats import shapiro \n",
    "from scipy.stats import lognorm\n",
    "\n",
    "#make this example reproducible\n",
    "np.random.seed(1)\n",
    "\n",
    "#generate dataset that contains 1000 log-normal distributed values\n",
    "lognorm_dataset = lognorm.rvs(s=.5, scale=math.exp(1), size=1000)\n",
    "\n",
    "#perform Shapiro-Wilk test for normality\n",
    "print(shapiro(lognorm_dataset))\n",
    "\n",
    "# ShapiroResult(statistic=0.8573324680328369, pvalue=3.880663073872444e-29)"
   ]
  },
  {
   "cell_type": "markdown",
   "id": "bc8ab018",
   "metadata": {},
   "source": [
    "From the output we can see that the test statistic is 0.857 and the corresponding p-value is 3.88e-29 (extremely close to zero).\n",
    "\n",
    "Since the p-value is less than .05, we reject the null hypothesis of the Shapiro-Wilk test.\n",
    "\n",
    "This means we have sufficient evidence to say that the sample data does not come from a normal distribution."
   ]
  },
  {
   "cell_type": "markdown",
   "id": "5ba168eb",
   "metadata": {},
   "source": [
    "<h1 style = \"color : cyan\">Method 4: Perform a Kolmogorov-Smirnov Test</h1>"
   ]
  },
  {
   "cell_type": "code",
   "execution_count": 52,
   "id": "1a267b12",
   "metadata": {},
   "outputs": [
    {
     "name": "stdout",
     "output_type": "stream",
     "text": [
      "KstestResult(statistic=0.84125708308077, pvalue=0.0)\n"
     ]
    }
   ],
   "source": [
    "import math\n",
    "import numpy as np\n",
    "from scipy.stats import kstest\n",
    "from scipy.stats import lognorm\n",
    "\n",
    "#make this example reproducible\n",
    "np.random.seed(1)\n",
    "\n",
    "#generate dataset that contains 1000 log-normal distributed values\n",
    "lognorm_dataset = lognorm.rvs(s=.5, scale=math.exp(1), size=1000)\n",
    "\n",
    "#perform Kolmogorov-Smirnov test for normality\n",
    "print(kstest(lognorm_dataset, 'norm'))\n",
    "\n",
    "# KstestResult(statistic=0.84125708308077, pvalue=0.0)"
   ]
  },
  {
   "cell_type": "markdown",
   "id": "79ba74c6",
   "metadata": {},
   "source": [
    "From the output we can see that the test statistic is 0.841 and the corresponding p-value is 0.0.\n",
    "\n",
    "Since the p-value is less than .05, we reject the null hypothesis of the Kolmogorov-Smirnov test.\n",
    "\n",
    "This means we have sufficient evidence to say that the sample data does not come from a normal distribution."
   ]
  },
  {
   "cell_type": "markdown",
   "id": "84cda179",
   "metadata": {},
   "source": [
    "<h1 style = \"color:SpringGreen\">How to Handle Non-Normal Data</h1>\n",
    "If a given dataset is not normally distributed, we can often perform one of the following transformations to make it more normally distributed:\n",
    "\n"
   ]
  },
  {
   "cell_type": "markdown",
   "id": "040c6034",
   "metadata": {},
   "source": [
    "1. Log Transformation: Transform the values from x to log(x).\n",
    "\n",
    "2. Square Root Transformation: Transform the values from x to √x.\n",
    "\n",
    "3. Cube Root Transformation: Transform the values from x to x1/3.\n",
    "\n",
    "By performing these transformations, the dataset typically becomes more normally distributed."
   ]
  },
  {
   "cell_type": "code",
   "execution_count": null,
   "id": "984902af",
   "metadata": {},
   "outputs": [],
   "source": []
  }
 ],
 "metadata": {
  "colab": {
   "name": "statistics_python.ipynb",
   "provenance": []
  },
  "kernelspec": {
   "display_name": "Python 3 (ipykernel)",
   "language": "python",
   "name": "python3"
  },
  "language_info": {
   "codemirror_mode": {
    "name": "ipython",
    "version": 3
   },
   "file_extension": ".py",
   "mimetype": "text/x-python",
   "name": "python",
   "nbconvert_exporter": "python",
   "pygments_lexer": "ipython3",
   "version": "3.9.12"
  }
 },
 "nbformat": 4,
 "nbformat_minor": 5
}
